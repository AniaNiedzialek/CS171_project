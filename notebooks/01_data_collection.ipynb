{
 "cells": [
  {
   "cell_type": "markdown",
   "id": "04fc8bc9",
   "metadata": {},
   "source": [
    "**Imports**"
   ]
  },
  {
   "cell_type": "code",
   "execution_count": 1,
   "id": "92340dc2",
   "metadata": {},
   "outputs": [],
   "source": [
    "import os\n",
    "from pathlib import Path\n",
    "import pandas as pd\n",
    "import yt_dlp"
   ]
  },
  {
   "cell_type": "markdown",
   "id": "f2b65922",
   "metadata": {},
   "source": [
    "**Download Videos**"
   ]
  },
  {
   "cell_type": "code",
   "execution_count": 2,
   "id": "7a521c75",
   "metadata": {},
   "outputs": [],
   "source": [
    "def download_video(url, name, output_path, start_time=0, duration=10):\n",
    "    # Combine output path with filename\n",
    "    output_path = output_path / f'{name}.mp4'\n",
    "    \n",
    "    ydl_opts = {\n",
    "        'format': 'best',\n",
    "        'outtmpl': str(output_path),\n",
    "        'quiet': True,\n",
    "        'no_warnings': True,\n",
    "        'download_ranges': lambda info_dict, ydl: [\n",
    "            {\n",
    "                'start_time': start_time,\n",
    "                'end_time': start_time + duration,\n",
    "            }\n",
    "        ],\n",
    "    }\n",
    "    try:\n",
    "        with yt_dlp.YoutubeDL(ydl_opts) as ydl:\n",
    "            ydl.download([url])\n",
    "            print(f\"Downloaded video: {name}\")\n",
    "        return True\n",
    "    except Exception as e:\n",
    "        print(f\"Error downloading video: {e}\")\n",
    "        return False"
   ]
  },
  {
   "cell_type": "markdown",
   "id": "c63faef0",
   "metadata": {},
   "source": [
    "**Create Labels**"
   ]
  },
  {
   "cell_type": "code",
   "execution_count": 3,
   "id": "bf351416",
   "metadata": {},
   "outputs": [],
   "source": [
    "def add_label(csv_path, url,start_time=0, duration=10, labels=None, division=None, pattern=None):\n",
    "    # Check if the CSV file exists\n",
    "    if not os.path.exists(csv_path):\n",
    "        df = pd.DataFrame(columns=['id', 'url', 'start_time', 'duration', 'labels', 'division', 'pattern'])\n",
    "        df.to_csv(csv_path, index=False)\n",
    "    else:\n",
    "        # Load existing CSV\n",
    "        df = pd.read_csv(csv_path)\n",
    "\n",
    "    # Get next ID\n",
    "    if len(df) == 0:\n",
    "        next_id = 1\n",
    "    else:\n",
    "        next_id = df['id'].max() + 1\n",
    "    \n",
    "    # Add new rows\n",
    "    new_row = {\n",
    "        'id': next_id,\n",
    "        'url': url,\n",
    "        'start_time': start_time,\n",
    "        'duration': duration,\n",
    "        'labels': labels,\n",
    "        'division': division,\n",
    "        'pattern': pattern,\n",
    "    }\n",
    "\n",
    "    # Append new rows\n",
    "    df = pd.concat([df, pd.DataFrame([new_row])], ignore_index=True)\n",
    "    # Save updated CSV\n",
    "    df.to_csv(csv_path, index=False)\n",
    "    print(f\"Added video with ID {next_id} to {csv_path}\")"
   ]
  },
  {
   "cell_type": "markdown",
   "id": "6cce3c2f",
   "metadata": {},
   "source": [
    "**Batch Download Function**"
   ]
  },
  {
   "cell_type": "code",
   "execution_count": 4,
   "id": "f1e0d179",
   "metadata": {},
   "outputs": [],
   "source": [
    "def download_all_from_csv(csv_path):\n",
    "    df = pd.read_csv(csv_path)\n",
    "\n",
    "    for index, row in df.iterrows():\n",
    "        # Create folder with label name\n",
    "        os.makedirs(f'../data/raw/videos/{row[\"labels\"]}', exist_ok=True)\n",
    "\n",
    "        # Download video\n",
    "        video_name = f\"{row['labels']}_{row['id']}.mp4\"\n",
    "        VIDEO_DIR = Path(f'../data/raw/videos/{row[\"labels\"]}')\n",
    "        \n",
    "        print(f\"Downloading {row['id']}: {row['labels']}...\")\n",
    "        success =download_video(\n",
    "            row['url'],\n",
    "            video_name,\n",
    "            VIDEO_DIR,\n",
    "            start_time=row['start_time'],\n",
    "            duration=row['duration'],\n",
    "        )"
   ]
  },
  {
   "cell_type": "code",
   "execution_count": 5,
   "id": "0d5ec8ff",
   "metadata": {},
   "outputs": [
    {
     "name": "stdout",
     "output_type": "stream",
     "text": [
      "Added video with ID 1 to ../data/labels.csv\n",
      "Downloading 1: sugar_push...\n",
      "Downloaded video: sugar_push_1.mp4                      \n"
     ]
    }
   ],
   "source": [
    "os.makedirs('../data', exist_ok=True)\n",
    "CSV_PATH = '../data/labels.csv'\n",
    "\n",
    "# Function format: add_label(csv_path, url,start_time=0, duration=10, labels=None, division=None, pattern=None)\n",
    "add_label(CSV_PATH,'https://www.youtube.com/shorts/dWQqGDk8ygc', 0, 4,'sugar_push','beginner','basic_triple_triple')\n",
    "\n",
    "# Download all videos\n",
    "download_all_from_csv(CSV_PATH)"
   ]
  }
 ],
 "metadata": {
  "kernelspec": {
   "display_name": "Python 3",
   "language": "python",
   "name": "python3"
  },
  "language_info": {
   "codemirror_mode": {
    "name": "ipython",
    "version": 3
   },
   "file_extension": ".py",
   "mimetype": "text/x-python",
   "name": "python",
   "nbconvert_exporter": "python",
   "pygments_lexer": "ipython3",
   "version": "3.12.0"
  }
 },
 "nbformat": 4,
 "nbformat_minor": 5
}
